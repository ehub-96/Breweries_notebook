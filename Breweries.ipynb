{
 "cells": [
  {
   "cell_type": "code",
   "execution_count": 1,
   "id": "a3a2d237",
   "metadata": {},
   "outputs": [],
   "source": [
    "import pandas as pd"
   ]
  },
  {
   "cell_type": "code",
   "execution_count": 2,
   "id": "538e02fc",
   "metadata": {},
   "outputs": [],
   "source": [
    "import matplotlib.pyplot as plt"
   ]
  },
  {
   "cell_type": "code",
   "execution_count": 3,
   "id": "fccb1eca",
   "metadata": {
    "scrolled": true
   },
   "outputs": [
    {
     "name": "stderr",
     "output_type": "stream",
     "text": [
      "C:\\Users\\ehub9_\\AppData\\Local\\Temp\\ipykernel_12248\\2474556486.py:1: ParserWarning: Length of header or names does not match length of data. This leads to a loss of data with index_col=False.\n",
      "  breweries = pd.read_csv(\"Breweries.csv\", index_col=False)\n"
     ]
    }
   ],
   "source": [
    "breweries = pd.read_csv(\"Breweries.csv\", index_col=False)"
   ]
  },
  {
   "cell_type": "markdown",
   "id": "f32a0451",
   "metadata": {},
   "source": [
    "## Fixing Index"
   ]
  },
  {
   "cell_type": "code",
   "execution_count": 4,
   "id": "83bc55a7",
   "metadata": {},
   "outputs": [
    {
     "data": {
      "text/html": [
       "<div>\n",
       "<style scoped>\n",
       "    .dataframe tbody tr th:only-of-type {\n",
       "        vertical-align: middle;\n",
       "    }\n",
       "\n",
       "    .dataframe tbody tr th {\n",
       "        vertical-align: top;\n",
       "    }\n",
       "\n",
       "    .dataframe thead th {\n",
       "        text-align: right;\n",
       "    }\n",
       "</style>\n",
       "<table border=\"1\" class=\"dataframe\">\n",
       "  <thead>\n",
       "    <tr style=\"text-align: right;\">\n",
       "      <th></th>\n",
       "      <th>ID</th>\n",
       "      <th>Brewery</th>\n",
       "      <th>State</th>\n",
       "      <th>District</th>\n",
       "      <th>Year Opened</th>\n",
       "      <th>Top Beer #1</th>\n",
       "      <th>Top Beer #2</th>\n",
       "      <th>Top Beer #3</th>\n",
       "      <th>Top Beer #4</th>\n",
       "      <th>Top Beer #5</th>\n",
       "    </tr>\n",
       "  </thead>\n",
       "  <tbody>\n",
       "    <tr>\n",
       "      <th>0</th>\n",
       "      <td>1</td>\n",
       "      <td>Weihenstephan</td>\n",
       "      <td>Bavaria</td>\n",
       "      <td>Freising</td>\n",
       "      <td>1040</td>\n",
       "      <td>Weihenstephaner Helles</td>\n",
       "      <td>Hefeweißbier</td>\n",
       "      <td>Winterfestbier</td>\n",
       "      <td>Naturradler</td>\n",
       "      <td>Kellerbier</td>\n",
       "    </tr>\n",
       "    <tr>\n",
       "      <th>1</th>\n",
       "      <td>2</td>\n",
       "      <td>Weltenburg Abbey</td>\n",
       "      <td>Bavaria</td>\n",
       "      <td>Kelheim</td>\n",
       "      <td>1050</td>\n",
       "      <td>Märzen</td>\n",
       "      <td>Zwickelbier</td>\n",
       "      <td>Kloster</td>\n",
       "      <td>Dunkelweizen</td>\n",
       "      <td>Wiesnbier</td>\n",
       "    </tr>\n",
       "    <tr>\n",
       "      <th>2</th>\n",
       "      <td>3</td>\n",
       "      <td>Bolten-Brauerei</td>\n",
       "      <td>North Rhine-Westphalia</td>\n",
       "      <td>Korschenbroich</td>\n",
       "      <td>1266</td>\n",
       "      <td>Alt</td>\n",
       "      <td>Ur-Alt</td>\n",
       "      <td>Ur-Weizen</td>\n",
       "      <td>Landbier</td>\n",
       "      <td>Malz</td>\n",
       "    </tr>\n",
       "    <tr>\n",
       "      <th>3</th>\n",
       "      <td>4</td>\n",
       "      <td>Gaffel Becker</td>\n",
       "      <td>North Rhine-Westphalia</td>\n",
       "      <td>Cologne</td>\n",
       "      <td>1302</td>\n",
       "      <td>Weiss</td>\n",
       "      <td>Kölsch</td>\n",
       "      <td>Fass Brause</td>\n",
       "      <td>Sonnen Hopfen</td>\n",
       "      <td>Lemon</td>\n",
       "    </tr>\n",
       "    <tr>\n",
       "      <th>4</th>\n",
       "      <td>5</td>\n",
       "      <td>Augustiner-Bräu</td>\n",
       "      <td>Bavaria</td>\n",
       "      <td>Munich</td>\n",
       "      <td>1328</td>\n",
       "      <td>Lagerbier Hell</td>\n",
       "      <td>Edelstoff</td>\n",
       "      <td>Heller Bock</td>\n",
       "      <td>Dunkel</td>\n",
       "      <td>Doppelbock</td>\n",
       "    </tr>\n",
       "    <tr>\n",
       "      <th>5</th>\n",
       "      <td>6</td>\n",
       "      <td>Franziskaner</td>\n",
       "      <td>Bavaria</td>\n",
       "      <td>Munich</td>\n",
       "      <td>1363</td>\n",
       "      <td>Hefe-Weissbier Naturtrüb</td>\n",
       "      <td>Hefe-Weissbier Dunkel</td>\n",
       "      <td>Weissbier Kristallklar</td>\n",
       "      <td>Helles</td>\n",
       "      <td>Hefe-Weissbier Leicht</td>\n",
       "    </tr>\n",
       "    <tr>\n",
       "      <th>6</th>\n",
       "      <td>7</td>\n",
       "      <td>Spaten</td>\n",
       "      <td>Bavaria</td>\n",
       "      <td>Munich</td>\n",
       "      <td>1372</td>\n",
       "      <td>Märzenbier</td>\n",
       "      <td>Pils</td>\n",
       "      <td>Diät-Pils</td>\n",
       "      <td>Doppelbock</td>\n",
       "      <td>Oktoberfestbier</td>\n",
       "    </tr>\n",
       "    <tr>\n",
       "      <th>7</th>\n",
       "      <td>8</td>\n",
       "      <td>Hofbräu</td>\n",
       "      <td>Bavaria</td>\n",
       "      <td>Munich</td>\n",
       "      <td>1589</td>\n",
       "      <td>Münchner Weisse</td>\n",
       "      <td>Schwarze Weisse</td>\n",
       "      <td>Sommerzwickl</td>\n",
       "      <td>Winterzwickl</td>\n",
       "      <td>Maibock</td>\n",
       "    </tr>\n",
       "    <tr>\n",
       "      <th>8</th>\n",
       "      <td>10</td>\n",
       "      <td>Paulaner</td>\n",
       "      <td>Bavaria</td>\n",
       "      <td>Munich</td>\n",
       "      <td>1634</td>\n",
       "      <td>Weissbier</td>\n",
       "      <td>Weissbier Dunkel</td>\n",
       "      <td>Oktoberfest Bier</td>\n",
       "      <td>Salvator</td>\n",
       "      <td>Hell</td>\n",
       "    </tr>\n",
       "    <tr>\n",
       "      <th>9</th>\n",
       "      <td>11</td>\n",
       "      <td>Schlenkerla</td>\n",
       "      <td>Bavaria</td>\n",
       "      <td>Bamberg</td>\n",
       "      <td>1678</td>\n",
       "      <td>Eiche</td>\n",
       "      <td>Rauchweizen</td>\n",
       "      <td>Urbock</td>\n",
       "      <td>Kräusen</td>\n",
       "      <td>Fastenbier</td>\n",
       "    </tr>\n",
       "  </tbody>\n",
       "</table>\n",
       "</div>"
      ],
      "text/plain": [
       "   ID           Brewery                   State        District  Year Opened  \\\n",
       "0   1     Weihenstephan                 Bavaria        Freising         1040   \n",
       "1   2  Weltenburg Abbey                 Bavaria         Kelheim         1050   \n",
       "2   3   Bolten-Brauerei  North Rhine-Westphalia  Korschenbroich         1266   \n",
       "3   4     Gaffel Becker  North Rhine-Westphalia         Cologne         1302   \n",
       "4   5   Augustiner-Bräu                 Bavaria          Munich         1328   \n",
       "5   6      Franziskaner                 Bavaria          Munich         1363   \n",
       "6   7            Spaten                 Bavaria          Munich         1372   \n",
       "7   8           Hofbräu                 Bavaria          Munich         1589   \n",
       "8  10          Paulaner                 Bavaria          Munich         1634   \n",
       "9  11       Schlenkerla                 Bavaria         Bamberg         1678   \n",
       "\n",
       "                Top Beer #1            Top Beer #2             Top Beer #3  \\\n",
       "0    Weihenstephaner Helles           Hefeweißbier          Winterfestbier   \n",
       "1                    Märzen            Zwickelbier                 Kloster   \n",
       "2                       Alt                 Ur-Alt               Ur-Weizen   \n",
       "3                     Weiss                 Kölsch             Fass Brause   \n",
       "4            Lagerbier Hell              Edelstoff             Heller Bock   \n",
       "5  Hefe-Weissbier Naturtrüb  Hefe-Weissbier Dunkel  Weissbier Kristallklar   \n",
       "6                Märzenbier                   Pils               Diät-Pils   \n",
       "7           Münchner Weisse        Schwarze Weisse            Sommerzwickl   \n",
       "8                 Weissbier       Weissbier Dunkel        Oktoberfest Bier   \n",
       "9                     Eiche            Rauchweizen                  Urbock   \n",
       "\n",
       "     Top Beer #4            Top Beer #5  \n",
       "0    Naturradler             Kellerbier  \n",
       "1   Dunkelweizen              Wiesnbier  \n",
       "2       Landbier                   Malz  \n",
       "3  Sonnen Hopfen                  Lemon  \n",
       "4         Dunkel             Doppelbock  \n",
       "5         Helles  Hefe-Weissbier Leicht  \n",
       "6     Doppelbock        Oktoberfestbier  \n",
       "7   Winterzwickl                Maibock  \n",
       "8       Salvator                   Hell  \n",
       "9        Kräusen             Fastenbier  "
      ]
     },
     "execution_count": 4,
     "metadata": {},
     "output_type": "execute_result"
    }
   ],
   "source": [
    "breweries"
   ]
  },
  {
   "cell_type": "code",
   "execution_count": 33,
   "id": "8918a543",
   "metadata": {},
   "outputs": [],
   "source": [
    "breweries.set_index('ID',inplace=True)"
   ]
  },
  {
   "cell_type": "code",
   "execution_count": 34,
   "id": "f16e7e39",
   "metadata": {},
   "outputs": [
    {
     "data": {
      "text/html": [
       "<div>\n",
       "<style scoped>\n",
       "    .dataframe tbody tr th:only-of-type {\n",
       "        vertical-align: middle;\n",
       "    }\n",
       "\n",
       "    .dataframe tbody tr th {\n",
       "        vertical-align: top;\n",
       "    }\n",
       "\n",
       "    .dataframe thead th {\n",
       "        text-align: right;\n",
       "    }\n",
       "</style>\n",
       "<table border=\"1\" class=\"dataframe\">\n",
       "  <thead>\n",
       "    <tr style=\"text-align: right;\">\n",
       "      <th></th>\n",
       "      <th>Brewery</th>\n",
       "      <th>State</th>\n",
       "      <th>District</th>\n",
       "      <th>Year Opened</th>\n",
       "      <th>Top Beer #1</th>\n",
       "      <th>Top Beer #2</th>\n",
       "      <th>Top Beer #3</th>\n",
       "      <th>Top Beer #4</th>\n",
       "      <th>Top Beer #5</th>\n",
       "    </tr>\n",
       "    <tr>\n",
       "      <th>ID</th>\n",
       "      <th></th>\n",
       "      <th></th>\n",
       "      <th></th>\n",
       "      <th></th>\n",
       "      <th></th>\n",
       "      <th></th>\n",
       "      <th></th>\n",
       "      <th></th>\n",
       "      <th></th>\n",
       "    </tr>\n",
       "  </thead>\n",
       "  <tbody>\n",
       "    <tr>\n",
       "      <th>1</th>\n",
       "      <td>Weihenstephan</td>\n",
       "      <td>Bavaria</td>\n",
       "      <td>Freising</td>\n",
       "      <td>1040</td>\n",
       "      <td>Weihenstephaner Helles</td>\n",
       "      <td>Hefeweißbier</td>\n",
       "      <td>Winterfestbier</td>\n",
       "      <td>Naturradler</td>\n",
       "      <td>Kellerbier</td>\n",
       "    </tr>\n",
       "    <tr>\n",
       "      <th>2</th>\n",
       "      <td>Weltenburg Abbey</td>\n",
       "      <td>Bavaria</td>\n",
       "      <td>Kelheim</td>\n",
       "      <td>1050</td>\n",
       "      <td>Märzen</td>\n",
       "      <td>Zwickelbier</td>\n",
       "      <td>Kloster</td>\n",
       "      <td>Dunkelweizen</td>\n",
       "      <td>Wiesnbier</td>\n",
       "    </tr>\n",
       "    <tr>\n",
       "      <th>3</th>\n",
       "      <td>Bolten-Brauerei</td>\n",
       "      <td>North Rhine-Westphalia</td>\n",
       "      <td>Korschenbroich</td>\n",
       "      <td>1266</td>\n",
       "      <td>Alt</td>\n",
       "      <td>Ur-Alt</td>\n",
       "      <td>Ur-Weizen</td>\n",
       "      <td>Landbier</td>\n",
       "      <td>Malz</td>\n",
       "    </tr>\n",
       "    <tr>\n",
       "      <th>4</th>\n",
       "      <td>Gaffel Becker</td>\n",
       "      <td>North Rhine-Westphalia</td>\n",
       "      <td>Cologne</td>\n",
       "      <td>1302</td>\n",
       "      <td>Weiss</td>\n",
       "      <td>Kölsch</td>\n",
       "      <td>Fass Brause</td>\n",
       "      <td>Sonnen Hopfen</td>\n",
       "      <td>Lemon</td>\n",
       "    </tr>\n",
       "    <tr>\n",
       "      <th>5</th>\n",
       "      <td>Augustiner-Bräu</td>\n",
       "      <td>Bavaria</td>\n",
       "      <td>Munich</td>\n",
       "      <td>1328</td>\n",
       "      <td>Lagerbier Hell</td>\n",
       "      <td>Edelstoff</td>\n",
       "      <td>Heller Bock</td>\n",
       "      <td>Dunkel</td>\n",
       "      <td>Doppelbock</td>\n",
       "    </tr>\n",
       "    <tr>\n",
       "      <th>6</th>\n",
       "      <td>Franziskaner</td>\n",
       "      <td>Bavaria</td>\n",
       "      <td>Munich</td>\n",
       "      <td>1363</td>\n",
       "      <td>Hefe-Weissbier Naturtrüb</td>\n",
       "      <td>Hefe-Weissbier Dunkel</td>\n",
       "      <td>Weissbier Kristallklar</td>\n",
       "      <td>Helles</td>\n",
       "      <td>Hefe-Weissbier Leicht</td>\n",
       "    </tr>\n",
       "    <tr>\n",
       "      <th>7</th>\n",
       "      <td>Spaten</td>\n",
       "      <td>Bavaria</td>\n",
       "      <td>Munich</td>\n",
       "      <td>1372</td>\n",
       "      <td>Märzenbier</td>\n",
       "      <td>Pils</td>\n",
       "      <td>Diät-Pils</td>\n",
       "      <td>Doppelbock</td>\n",
       "      <td>Oktoberfestbier</td>\n",
       "    </tr>\n",
       "    <tr>\n",
       "      <th>8</th>\n",
       "      <td>Hofbräu</td>\n",
       "      <td>Bavaria</td>\n",
       "      <td>Munich</td>\n",
       "      <td>1589</td>\n",
       "      <td>Münchner Weisse</td>\n",
       "      <td>Schwarze Weisse</td>\n",
       "      <td>Sommerzwickl</td>\n",
       "      <td>Winterzwickl</td>\n",
       "      <td>Maibock</td>\n",
       "    </tr>\n",
       "    <tr>\n",
       "      <th>10</th>\n",
       "      <td>Paulaner</td>\n",
       "      <td>Bavaria</td>\n",
       "      <td>Munich</td>\n",
       "      <td>1634</td>\n",
       "      <td>Weissbier</td>\n",
       "      <td>Weissbier Dunkel</td>\n",
       "      <td>Oktoberfest Bier</td>\n",
       "      <td>Salvator</td>\n",
       "      <td>Hell</td>\n",
       "    </tr>\n",
       "    <tr>\n",
       "      <th>11</th>\n",
       "      <td>Schlenkerla</td>\n",
       "      <td>Bavaria</td>\n",
       "      <td>Bamberg</td>\n",
       "      <td>1678</td>\n",
       "      <td>Eiche</td>\n",
       "      <td>Rauchweizen</td>\n",
       "      <td>Urbock</td>\n",
       "      <td>Kräusen</td>\n",
       "      <td>Fastenbier</td>\n",
       "    </tr>\n",
       "  </tbody>\n",
       "</table>\n",
       "</div>"
      ],
      "text/plain": [
       "             Brewery                   State        District  Year Opened  \\\n",
       "ID                                                                          \n",
       "1      Weihenstephan                 Bavaria        Freising         1040   \n",
       "2   Weltenburg Abbey                 Bavaria         Kelheim         1050   \n",
       "3    Bolten-Brauerei  North Rhine-Westphalia  Korschenbroich         1266   \n",
       "4      Gaffel Becker  North Rhine-Westphalia         Cologne         1302   \n",
       "5    Augustiner-Bräu                 Bavaria          Munich         1328   \n",
       "6       Franziskaner                 Bavaria          Munich         1363   \n",
       "7             Spaten                 Bavaria          Munich         1372   \n",
       "8            Hofbräu                 Bavaria          Munich         1589   \n",
       "10          Paulaner                 Bavaria          Munich         1634   \n",
       "11       Schlenkerla                 Bavaria         Bamberg         1678   \n",
       "\n",
       "                 Top Beer #1            Top Beer #2             Top Beer #3  \\\n",
       "ID                                                                            \n",
       "1     Weihenstephaner Helles           Hefeweißbier          Winterfestbier   \n",
       "2                     Märzen            Zwickelbier                 Kloster   \n",
       "3                        Alt                 Ur-Alt               Ur-Weizen   \n",
       "4                      Weiss                 Kölsch             Fass Brause   \n",
       "5             Lagerbier Hell              Edelstoff             Heller Bock   \n",
       "6   Hefe-Weissbier Naturtrüb  Hefe-Weissbier Dunkel  Weissbier Kristallklar   \n",
       "7                 Märzenbier                   Pils               Diät-Pils   \n",
       "8            Münchner Weisse        Schwarze Weisse            Sommerzwickl   \n",
       "10                 Weissbier       Weissbier Dunkel        Oktoberfest Bier   \n",
       "11                     Eiche            Rauchweizen                  Urbock   \n",
       "\n",
       "      Top Beer #4            Top Beer #5  \n",
       "ID                                        \n",
       "1     Naturradler             Kellerbier  \n",
       "2    Dunkelweizen              Wiesnbier  \n",
       "3        Landbier                   Malz  \n",
       "4   Sonnen Hopfen                  Lemon  \n",
       "5          Dunkel             Doppelbock  \n",
       "6          Helles  Hefe-Weissbier Leicht  \n",
       "7      Doppelbock        Oktoberfestbier  \n",
       "8    Winterzwickl                Maibock  \n",
       "10       Salvator                   Hell  \n",
       "11        Kräusen             Fastenbier  "
      ]
     },
     "execution_count": 34,
     "metadata": {},
     "output_type": "execute_result"
    }
   ],
   "source": [
    "breweries"
   ]
  },
  {
   "cell_type": "code",
   "execution_count": 42,
   "id": "e9aaf2d2",
   "metadata": {},
   "outputs": [
    {
     "data": {
      "text/plain": [
       "Bavaria                   8\n",
       "North Rhine-Westphalia    2\n",
       "Name: State, dtype: int64"
      ]
     },
     "execution_count": 42,
     "metadata": {},
     "output_type": "execute_result"
    }
   ],
   "source": [
    "breweries[\"State\"].value_counts()"
   ]
  },
  {
   "cell_type": "code",
   "execution_count": 54,
   "id": "a9f1cf03",
   "metadata": {},
   "outputs": [],
   "source": [
    "states = [\"Bavaria\", \"North Rhine-Westphalia\"]\n",
    "amount = [8,2]\n",
    "colors = [\"#e36414\", \"#0f4c5c\"]"
   ]
  },
  {
   "cell_type": "code",
   "execution_count": 56,
   "id": "0d6e42aa",
   "metadata": {},
   "outputs": [
    {
     "data": {
      "image/png": "[encoded data removed]",
      "text/plain": [
       "<Figure size 504x504 with 1 Axes>"
      ]
     },
     "metadata": {},
     "output_type": "display_data"
    }
   ],
   "source": [
    "plt.figure(figsize=(7,7))\n",
    "plt.pie(\n",
    "    amount, \n",
    "    labels=states, \n",
    "    colors=colors, \n",
    "    explode=(0,0.5),\n",
    "    autopct='%.0f%%'\n",
    ")\n",
    "plt.title(\"Oldest Breweries in Germany\")\n",
    "plt.show()"
   ]
  },
  {
   "cell_type": "code",
   "execution_count": 62,
   "id": "14107101",
   "metadata": {
    "scrolled": true
   },
   "outputs": [
    {
     "data": {
      "text/plain": [
       "ID\n",
       "1     1040\n",
       "2     1050\n",
       "3     1266\n",
       "4     1302\n",
       "5     1328\n",
       "6     1363\n",
       "7     1372\n",
       "8     1589\n",
       "10    1634\n",
       "11    1678\n",
       "Name: Year Opened, dtype: int64"
      ]
     },
     "execution_count": 62,
     "metadata": {},
     "output_type": "execute_result"
    }
   ],
   "source": [
    "breweries[\"Year Opened\"]"
   ]
  },
  {
   "cell_type": "code",
   "execution_count": null,
   "id": "532499ab",
   "metadata": {},
   "outputs": [],
   "source": [
    "breweries[\"Brewery\"]"
   ]
  },
  {
   "cell_type": "code",
   "execution_count": 65,
   "id": "9510c5df",
   "metadata": {},
   "outputs": [],
   "source": [
    "german_breweries = [\"Weihenstephan\",\"Weltenburg Abbey\",\"Bolten-Brauerei\",\"Gaffel Becker\",\"Augustiner-Bräu\",\"Franziskaner\",\n",
    "                   \"Spaten\",\"Hofbräu\",\"Paulaner\",\"Schlenkerla\"]\n",
    "year_open = [1040,1050,1266,1302,1328,1363,1372,1589,1634,1678]"
   ]
  },
  {
   "cell_type": "code",
   "execution_count": 82,
   "id": "92a18ad7",
   "metadata": {},
   "outputs": [
    {
     "data": {
      "text/plain": [
       "Text(0, 0.5, 'Year Opened')"
      ]
     },
     "execution_count": 82,
     "metadata": {},
     "output_type": "execute_result"
    },
    {
     "data": {
      "image/png": "[encoded data removed]",
      "text/plain": [
       "<Figure size 1440x576 with 1 Axes>"
      ]
     },
     "metadata": {
      "needs_background": "light"
     },
     "output_type": "display_data"
    }
   ],
   "source": [
    "plt.figure(figsize=(20,8))\n",
    "plt.scatter(german_breweries, year_open, label=\"Breweries\")\n",
    "plt.xlabel(\"Brewery\")\n",
    "plt.ylabel(\"Year Opened\")"
   ]
  },
  {
   "cell_type": "code",
   "execution_count": 30,
   "id": "2c847c30",
   "metadata": {
    "scrolled": true
   },
   "outputs": [],
   "source": [
    "breweries_by_district = breweries[[\"District\",\"State\"]]"
   ]
  },
  {
   "cell_type": "code",
   "execution_count": 73,
   "id": "9133f83f",
   "metadata": {},
   "outputs": [
    {
     "data": {
      "text/plain": [
       "Munich            5\n",
       "Freising          1\n",
       "Kelheim           1\n",
       "Korschenbroich    1\n",
       "Cologne           1\n",
       "Bamberg           1\n",
       "Name: District, dtype: int64"
      ]
     },
     "execution_count": 73,
     "metadata": {},
     "output_type": "execute_result"
    }
   ],
   "source": [
    "breweries_by_district[\"District\"].value_counts()"
   ]
  },
  {
   "cell_type": "code",
   "execution_count": 31,
   "id": "5d9de1d4",
   "metadata": {
    "scrolled": false
   },
   "outputs": [
    {
     "data": {
      "text/html": [
       "<div>\n",
       "<style scoped>\n",
       "    .dataframe tbody tr th:only-of-type {\n",
       "        vertical-align: middle;\n",
       "    }\n",
       "\n",
       "    .dataframe tbody tr th {\n",
       "        vertical-align: top;\n",
       "    }\n",
       "\n",
       "    .dataframe thead th {\n",
       "        text-align: right;\n",
       "    }\n",
       "</style>\n",
       "<table border=\"1\" class=\"dataframe\">\n",
       "  <thead>\n",
       "    <tr style=\"text-align: right;\">\n",
       "      <th></th>\n",
       "      <th>District</th>\n",
       "      <th>State</th>\n",
       "    </tr>\n",
       "  </thead>\n",
       "  <tbody>\n",
       "    <tr>\n",
       "      <th>0</th>\n",
       "      <td>Freising</td>\n",
       "      <td>Bavaria</td>\n",
       "    </tr>\n",
       "    <tr>\n",
       "      <th>1</th>\n",
       "      <td>Kelheim</td>\n",
       "      <td>Bavaria</td>\n",
       "    </tr>\n",
       "    <tr>\n",
       "      <th>2</th>\n",
       "      <td>Korschenbroich</td>\n",
       "      <td>North Rhine-Westphalia</td>\n",
       "    </tr>\n",
       "    <tr>\n",
       "      <th>3</th>\n",
       "      <td>Cologne</td>\n",
       "      <td>North Rhine-Westphalia</td>\n",
       "    </tr>\n",
       "    <tr>\n",
       "      <th>4</th>\n",
       "      <td>Munich</td>\n",
       "      <td>Bavaria</td>\n",
       "    </tr>\n",
       "    <tr>\n",
       "      <th>5</th>\n",
       "      <td>Munich</td>\n",
       "      <td>Bavaria</td>\n",
       "    </tr>\n",
       "    <tr>\n",
       "      <th>6</th>\n",
       "      <td>Munich</td>\n",
       "      <td>Bavaria</td>\n",
       "    </tr>\n",
       "    <tr>\n",
       "      <th>7</th>\n",
       "      <td>Munich</td>\n",
       "      <td>Bavaria</td>\n",
       "    </tr>\n",
       "    <tr>\n",
       "      <th>8</th>\n",
       "      <td>Munich</td>\n",
       "      <td>Bavaria</td>\n",
       "    </tr>\n",
       "    <tr>\n",
       "      <th>9</th>\n",
       "      <td>Bamberg</td>\n",
       "      <td>Bavaria</td>\n",
       "    </tr>\n",
       "  </tbody>\n",
       "</table>\n",
       "</div>"
      ],
      "text/plain": [
       "         District                   State\n",
       "0        Freising                 Bavaria\n",
       "1         Kelheim                 Bavaria\n",
       "2  Korschenbroich  North Rhine-Westphalia\n",
       "3         Cologne  North Rhine-Westphalia\n",
       "4          Munich                 Bavaria\n",
       "5          Munich                 Bavaria\n",
       "6          Munich                 Bavaria\n",
       "7          Munich                 Bavaria\n",
       "8          Munich                 Bavaria\n",
       "9         Bamberg                 Bavaria"
      ]
     },
     "execution_count": 31,
     "metadata": {},
     "output_type": "execute_result"
    }
   ],
   "source": [
    "breweries_by_district"
   ]
  },
  {
   "cell_type": "code",
   "execution_count": 70,
   "id": "dbd5fb8e",
   "metadata": {},
   "outputs": [
    {
     "data": {
      "text/plain": [
       "Bavaria                   8\n",
       "North Rhine-Westphalia    2\n",
       "Name: State, dtype: int64"
      ]
     },
     "execution_count": 70,
     "metadata": {},
     "output_type": "execute_result"
    }
   ],
   "source": [
    "breweries_by_district[\"State\"].value_counts()"
   ]
  },
  {
   "cell_type": "code",
   "execution_count": 115,
   "id": "0a541ef7",
   "metadata": {},
   "outputs": [
    {
     "data": {
      "text/plain": [
       "Text(0, 0.5, 'N° of Breweries')"
      ]
     },
     "execution_count": 115,
     "metadata": {},
     "output_type": "execute_result"
    },
    {
     "data": {
      "image/png": "[encoded data removed]",
      "text/plain": [
       "<Figure size 432x288 with 1 Axes>"
      ]
     },
     "metadata": {
      "needs_background": "light"
     },
     "output_type": "display_data"
    }
   ],
   "source": [
    "bavaria = breweries_by_district[\"State\"] == \"Bavaria\"\n",
    "nrw = breweries_by_district[\"State\"] == \"North Rhine-Westphalia\"\n",
    "bins = [\"Bamberg\",\"Korschenbroich\",\"Cologne\",\"Munich\",\"Kelheim\",\"Freising\"]\n",
    "plt.hist(breweries_by_district[\"District\"][bavaria],label=\"Bavarian\", alpha=0.5,color=\"#2E933C\")\n",
    "plt.hist(breweries_by_district[\"District\"][nrw],label=\"North Rhine-Westphalian\", alpha=0.5, color=\"#F24236\")\n",
    "plt.legend()\n",
    "plt.title(\"Breweries in Bavaria & North Rhine-Westphalia\")\n",
    "plt.xlabel(\"Districts\")\n",
    "plt.ylabel(\"N° of Breweries\")"
   ]
  }
 ],
 "metadata": {
  "kernelspec": {
   "display_name": "Python 3 (ipykernel)",
   "language": "python",
   "name": "python3"
  },
  "language_info": {
   "codemirror_mode": {
    "name": "ipython",
    "version": 3
   },
   "file_extension": ".py",
   "mimetype": "text/x-python",
   "name": "python",
   "nbconvert_exporter": "python",
   "pygments_lexer": "ipython3",
   "version": "3.9.12"
  }
 },
 "nbformat": 4,
 "nbformat_minor": 5
}
